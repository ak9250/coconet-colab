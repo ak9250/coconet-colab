{
  "nbformat": 4,
  "nbformat_minor": 0,
  "metadata": {
    "colab": {
      "name": "coconet.ipynb",
      "version": "0.3.2",
      "provenance": [],
      "include_colab_link": true
    },
    "kernelspec": {
      "name": "python2",
      "display_name": "Python 2"
    },
    "accelerator": "GPU"
  },
  "cells": [
    {
      "cell_type": "markdown",
      "metadata": {
        "id": "view-in-github",
        "colab_type": "text"
      },
      "source": [
        "<a href=\"https://colab.research.google.com/github/ak9250/coconet-colab/blob/master/coconet.ipynb\" target=\"_parent\"><img src=\"https://colab.research.google.com/assets/colab-badge.svg\" alt=\"Open In Colab\"/></a>"
      ]
    },
    {
      "metadata": {
        "id": "VC2LjbjpR5qz",
        "colab_type": "code",
        "colab": {}
      },
      "cell_type": "code",
      "source": [
        "!git clone https://github.com/tensorflow/magenta.git"
      ],
      "execution_count": 0,
      "outputs": []
    },
    {
      "metadata": {
        "id": "MnQ-Dmr9PbNJ",
        "colab_type": "code",
        "colab": {}
      },
      "cell_type": "code",
      "source": [
        "cd /content/magenta/magenta/models/coconet/"
      ],
      "execution_count": 0,
      "outputs": []
    },
    {
      "metadata": {
        "id": "E_3_SxJ7TC9a",
        "colab_type": "code",
        "colab": {}
      },
      "cell_type": "code",
      "source": [
        "!wget http://download.magenta.tensorflow.org/models/coconet/checkpoint.zip"
      ],
      "execution_count": 0,
      "outputs": []
    },
    {
      "metadata": {
        "id": "Znw6iQxDTdFZ",
        "colab_type": "code",
        "colab": {}
      },
      "cell_type": "code",
      "source": [
        "!unzip checkpoint.zip"
      ],
      "execution_count": 0,
      "outputs": []
    },
    {
      "metadata": {
        "id": "CwatDEYIXnS8",
        "colab_type": "code",
        "colab": {}
      },
      "cell_type": "code",
      "source": [
        "!pip install -qU magenta"
      ],
      "execution_count": 0,
      "outputs": []
    },
    {
      "metadata": {
        "id": "P66L_7fpf7xi",
        "colab_type": "code",
        "colab": {}
      },
      "cell_type": "code",
      "source": [
        "!mkdir outputsamples"
      ],
      "execution_count": 0,
      "outputs": []
    },
    {
      "metadata": {
        "id": "-mrJy9g4yQ75",
        "colab_type": "code",
        "colab": {}
      },
      "cell_type": "code",
      "source": [
        "cd coconet_checkpoint/coconet-64layers-128filters/"
      ],
      "execution_count": 0,
      "outputs": []
    },
    {
      "metadata": {
        "id": "76Nh8WVMyvXE",
        "colab_type": "code",
        "colab": {}
      },
      "cell_type": "code",
      "source": [
        "!cat checkpoint"
      ],
      "execution_count": 0,
      "outputs": []
    },
    {
      "metadata": {
        "id": "w6MUpE5KzQof",
        "colab_type": "code",
        "colab": {}
      },
      "cell_type": "code",
      "source": [
        "%%writefile checkpoint\n",
        "model_checkpoint_path: \"best_model.ckpt\""
      ],
      "execution_count": 0,
      "outputs": []
    },
    {
      "metadata": {
        "id": "fJPwnBeyzfU_",
        "colab_type": "code",
        "colab": {}
      },
      "cell_type": "code",
      "source": [
        "cd .."
      ],
      "execution_count": 0,
      "outputs": []
    },
    {
      "metadata": {
        "id": "GT1ETR_OFr4j",
        "colab_type": "code",
        "colab": {}
      },
      "cell_type": "code",
      "source": [
        "cd .."
      ],
      "execution_count": 0,
      "outputs": []
    },
    {
      "metadata": {
        "id": "7pq15oOPFwLf",
        "colab_type": "text"
      },
      "cell_type": "markdown",
      "source": [
        "get pretrained samples"
      ]
    },
    {
      "metadata": {
        "id": "2Rpz_s9sfaIa",
        "colab_type": "code",
        "colab": {}
      },
      "cell_type": "code",
      "source": [
        "%%bash\n",
        "# Copyright 2019 The Magenta Authors.\n",
        "#\n",
        "# Licensed under the Apache License, Version 2.0 (the \"License\");\n",
        "# you may not use this file except in compliance with the License.\n",
        "# You may obtain a copy of the License at\n",
        "#\n",
        "#     http://www.apache.org/licenses/LICENSE-2.0\n",
        "#\n",
        "# Unless required by applicable law or agreed to in writing, software\n",
        "# distributed under the License is distributed on an \"AS IS\" BASIS,\n",
        "# WITHOUT WARRANTIES OR CONDITIONS OF ANY KIND, either express or implied.\n",
        "# See the License for the specific language governing permissions and\n",
        "# limitations under the License.\n",
        "\n",
        "#!/bin/bash\n",
        "\n",
        "set -x\n",
        "set -e\n",
        "\n",
        "# Pass path to checkpoint directory as first argument to this script.\n",
        "# You can also download a model pretrained on the J.S. Bach chorales dataset from here:\n",
        "# http://download.magenta.tensorflow.org/models/coconet/checkpoint.zip\n",
        "# and pass the path up to the inner most directory as first argument when running this\n",
        "# script.\n",
        "checkpoint=/content/magenta/magenta/models/coconet/coconet_checkpoint/coconet-64layers-128filters/\n",
        "\n",
        "# Change this to path for saving samples.\n",
        "generation_output_dir=/content/magenta/magenta/models/coconet/outputsamples/\n",
        "\n",
        "# Generation parameters.\n",
        "# Number of samples to generate in a batch.\n",
        "gen_batch_size=2\n",
        "piece_length=16\n",
        "strategy=igibbs\n",
        "tfsample=true\n",
        "\n",
        "# Run command.\n",
        "python coconet_sample.py \\\n",
        "--checkpoint=\"$checkpoint\" \\\n",
        "--gen_batch_size=$gen_batch_size \\\n",
        "--piece_length=$piece_length \\\n",
        "--temperature=0.99 \\\n",
        "--strategy=$strategy \\\n",
        "--tfsample=$tfsample \\\n",
        "--generation_output_dir=$generation_output_dir \\\n",
        "--logtostderr\n",
        "\n",
        "\n"
      ],
      "execution_count": 0,
      "outputs": []
    },
    {
      "metadata": {
        "id": "x_Z9rxF0FyZR",
        "colab_type": "text"
      },
      "cell_type": "markdown",
      "source": [
        "training "
      ]
    },
    {
      "metadata": {
        "id": "ny2c9oBCAbL4",
        "colab_type": "code",
        "colab": {}
      },
      "cell_type": "code",
      "source": [
        "!mkdir logging"
      ],
      "execution_count": 0,
      "outputs": []
    },
    {
      "metadata": {
        "id": "iJofUPLYZoo_",
        "colab_type": "code",
        "colab": {}
      },
      "cell_type": "code",
      "source": [
        "%%bash\n",
        "# Copyright 2019 The Magenta Authors.\n",
        "#\n",
        "# Licensed under the Apache License, Version 2.0 (the \"License\");\n",
        "# you may not use this file except in compliance with the License.\n",
        "# You may obtain a copy of the License at\n",
        "#\n",
        "#     http://www.apache.org/licenses/LICENSE-2.0\n",
        "#\n",
        "# Unless required by applicable law or agreed to in writing, software\n",
        "# distributed under the License is distributed on an \"AS IS\" BASIS,\n",
        "# WITHOUT WARRANTIES OR CONDITIONS OF ANY KIND, either express or implied.\n",
        "# See the License for the specific language governing permissions and\n",
        "# limitations under the License.\n",
        "\n",
        "#!/bin/bash\n",
        "\n",
        "set -x\n",
        "set -e\n",
        "\n",
        "# Change this to dir for saving experiment logs.\n",
        "logdir=/content/magenta/magenta/models/coconet/logging/\n",
        "# Change this to where data is loaded from.\n",
        "data_dir=\"testdata\"\n",
        "data_dir=/content/magenta/magenta/models/coconet/testdata/\n",
        "# Change this to your dataset class, which can be defined in lib_data.py.\n",
        "dataset=TestData\n",
        "\n",
        "# Data preprocessing.\n",
        "crop_piece_len=32\n",
        "separate_instruments=True\n",
        "quantization_level=0.125  # 16th notes\n",
        "\n",
        "# Hyperparameters.\n",
        "maskout_method=orderless\n",
        "num_layers=32\n",
        "num_filters=64\n",
        "batch_size=10\n",
        "use_sep_conv=True\n",
        "architecture='dilated'\n",
        "num_dilation_blocks=1\n",
        "dilate_time_only=False\n",
        "repeat_last_dilation_level=False\n",
        "num_pointwise_splits=2\n",
        "interleave_split_every_n_layers=2\n",
        "\n",
        "\n",
        "# Run command.\n",
        "python coconet_train.py \\\n",
        "  --logdir=$logdir \\\n",
        "  --log_process=True \\\n",
        "  --data_dir=$data_dir \\\n",
        "  --dataset=$dataset \\\n",
        "  --crop_piece_len=$crop_piece_len \\\n",
        "  --separate_instruments=$separate_instruments \\\n",
        "  --quantization_level=$quantization_level \\\n",
        "  --maskout_method=$maskout_method \\\n",
        "  --num_layers=$num_layers \\\n",
        "  --num_filters=$num_filters \\\n",
        "  --use_residual \\\n",
        "  --batch_size=$batch_size \\\n",
        "  --use_sep_conv=$use_sep_conv \\\n",
        "  --architecture=$architecture \\\n",
        "  --num_dilation_blocks=$num_dilation_blocks \\\n",
        "  --dilate_time_only=$dilate_time_only \\\n",
        "  --repeat_last_dilation_level=$repeat_last_dilation_level \\\n",
        "  --num_pointwise_splits=$num_pointwise_splits \\\n",
        "  --interleave_split_every_n_layers=$interleave_split_every_n_layers \\\n",
        "  --logtostderr\n"
      ],
      "execution_count": 0,
      "outputs": []
    },
    {
      "metadata": {
        "id": "0gTQe8-b1idk",
        "colab_type": "code",
        "colab": {}
      },
      "cell_type": "code",
      "source": [
        ""
      ],
      "execution_count": 0,
      "outputs": []
    }
  ]
}